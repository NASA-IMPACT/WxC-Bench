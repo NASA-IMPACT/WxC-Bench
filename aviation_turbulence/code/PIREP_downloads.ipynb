{
 "cells": [
  {
   "cell_type": "markdown",
   "id": "e767cea3",
   "metadata": {},
   "source": [
    "# Turbulence Notebook - Pilot Report Downloads\n",
    "\n",
    "**Description**: The purpose of this notebook is to download pilot reports (PIREPs). These are raw POINT data provided by pilots that help give information about what they are experiencing in the atmosphere during flight.\n",
    "\n",
    "**Where**:\n",
    "- https://mesonet.agron.iastate.edu/request/gis/pireps.php\n",
    "- cgi-bin, direct download link was sent to me"
   ]
  },
  {
   "cell_type": "markdown",
   "id": "1ec9612d",
   "metadata": {},
   "source": [
    "## About the Data\n",
    "\n",
    "**Data Provided**: date/time, urgent, raw PIREP, icing, turbulence, lat/lon, aircraft, ATRCC\n",
    "- Example raw PIREP: BNA UA /OV BNA135020/TM 1932/FL070/TP LJ60/TB MOD-SEV DURGD 070\n",
    "    - Decoded: BNA - Nashville | UA - routine report | OV BNA135020 - relative location, 20 miles SE of BNA  | TM 1932 - time | FL 070 - altitude, 7000ft | TP LJ60 - aircraft | TB MOD-SEV - moderate to severe turbulence, DURGD 070 during decent 7000ft\n",
    "    - They can include more information than this, including sky cover, icing, temperature, and other remarks\n",
    "\n",
    "**Time**: 2003-current\n",
    "\n",
    "**Location**: United States (PIREPs can also be found over the Atlantic and Pacific Oceans)\n",
    "\n",
    "**Data formats available**: Shapefile, comma delimited; this notebook will download CSVs"
   ]
  },
  {
   "cell_type": "markdown",
   "id": "4a8b62e9",
   "metadata": {},
   "source": [
    "## Bulk Filtering and Downloading"
   ]
  },
  {
   "cell_type": "markdown",
   "id": "3d394954",
   "metadata": {},
   "source": [
    "We'll download monthly data."
   ]
  },
  {
   "cell_type": "code",
   "execution_count": 2,
   "id": "64ca9d3e",
   "metadata": {},
   "outputs": [],
   "source": [
    "# create a dictionary with months and corresponding days - this way the data will pull and download properly\n",
    "month_days = dict({\n",
    "    1: 31,\n",
    "    2: 28,\n",
    "    3: 31,\n",
    "    4 : 30,\n",
    "    5: 31,\n",
    "    6: 30,\n",
    "    7: 31,\n",
    "    8: 31,\n",
    "    9: 30,\n",
    "    10: 31,\n",
    "    11 : 30,\n",
    "    12 : 31\n",
    "})"
   ]
  },
  {
   "cell_type": "code",
   "execution_count": 2,
   "id": "5ca717dc",
   "metadata": {},
   "outputs": [
    {
     "name": "stdout",
     "output_type": "stream",
     "text": [
      "['https://mesonet.agron.iastate.edu/cgi-bin/request/gis/pireps.py?year1=2015&month1=1&day1=1&hour1=0&minute1=0&year2=2015&month2=1&day2=31&hour2=23&minute2=59&fmt=csv', 'https://mesonet.agron.iastate.edu/cgi-bin/request/gis/pireps.py?year1=2015&month1=2&day1=1&hour1=0&minute1=0&year2=2015&month2=2&day2=28&hour2=23&minute2=59&fmt=csv', 'https://mesonet.agron.iastate.edu/cgi-bin/request/gis/pireps.py?year1=2015&month1=3&day1=1&hour1=0&minute1=0&year2=2015&month2=3&day2=31&hour2=23&minute2=59&fmt=csv', 'https://mesonet.agron.iastate.edu/cgi-bin/request/gis/pireps.py?year1=2015&month1=4&day1=1&hour1=0&minute1=0&year2=2015&month2=4&day2=30&hour2=23&minute2=59&fmt=csv', 'https://mesonet.agron.iastate.edu/cgi-bin/request/gis/pireps.py?year1=2015&month1=5&day1=1&hour1=0&minute1=0&year2=2015&month2=5&day2=31&hour2=23&minute2=59&fmt=csv', 'https://mesonet.agron.iastate.edu/cgi-bin/request/gis/pireps.py?year1=2015&month1=6&day1=1&hour1=0&minute1=0&year2=2015&month2=6&day2=30&hour2=23&minute2=59&fmt=csv', 'https://mesonet.agron.iastate.edu/cgi-bin/request/gis/pireps.py?year1=2015&month1=7&day1=1&hour1=0&minute1=0&year2=2015&month2=7&day2=31&hour2=23&minute2=59&fmt=csv', 'https://mesonet.agron.iastate.edu/cgi-bin/request/gis/pireps.py?year1=2015&month1=8&day1=1&hour1=0&minute1=0&year2=2015&month2=8&day2=31&hour2=23&minute2=59&fmt=csv', 'https://mesonet.agron.iastate.edu/cgi-bin/request/gis/pireps.py?year1=2015&month1=9&day1=1&hour1=0&minute1=0&year2=2015&month2=9&day2=30&hour2=23&minute2=59&fmt=csv', 'https://mesonet.agron.iastate.edu/cgi-bin/request/gis/pireps.py?year1=2015&month1=10&day1=1&hour1=0&minute1=0&year2=2015&month2=10&day2=31&hour2=23&minute2=59&fmt=csv', 'https://mesonet.agron.iastate.edu/cgi-bin/request/gis/pireps.py?year1=2015&month1=11&day1=1&hour1=0&minute1=0&year2=2015&month2=11&day2=30&hour2=23&minute2=59&fmt=csv', 'https://mesonet.agron.iastate.edu/cgi-bin/request/gis/pireps.py?year1=2015&month1=12&day1=1&hour1=0&minute1=0&year2=2015&month2=12&day2=31&hour2=23&minute2=59&fmt=csv', 'https://mesonet.agron.iastate.edu/cgi-bin/request/gis/pireps.py?year1=2016&month1=1&day1=1&hour1=0&minute1=0&year2=2016&month2=1&day2=31&hour2=23&minute2=59&fmt=csv', 'https://mesonet.agron.iastate.edu/cgi-bin/request/gis/pireps.py?year1=2016&month1=2&day1=1&hour1=0&minute1=0&year2=2016&month2=2&day2=28&hour2=23&minute2=59&fmt=csv', 'https://mesonet.agron.iastate.edu/cgi-bin/request/gis/pireps.py?year1=2016&month1=3&day1=1&hour1=0&minute1=0&year2=2016&month2=3&day2=31&hour2=23&minute2=59&fmt=csv', 'https://mesonet.agron.iastate.edu/cgi-bin/request/gis/pireps.py?year1=2016&month1=4&day1=1&hour1=0&minute1=0&year2=2016&month2=4&day2=30&hour2=23&minute2=59&fmt=csv', 'https://mesonet.agron.iastate.edu/cgi-bin/request/gis/pireps.py?year1=2016&month1=5&day1=1&hour1=0&minute1=0&year2=2016&month2=5&day2=31&hour2=23&minute2=59&fmt=csv', 'https://mesonet.agron.iastate.edu/cgi-bin/request/gis/pireps.py?year1=2016&month1=6&day1=1&hour1=0&minute1=0&year2=2016&month2=6&day2=30&hour2=23&minute2=59&fmt=csv', 'https://mesonet.agron.iastate.edu/cgi-bin/request/gis/pireps.py?year1=2016&month1=7&day1=1&hour1=0&minute1=0&year2=2016&month2=7&day2=31&hour2=23&minute2=59&fmt=csv', 'https://mesonet.agron.iastate.edu/cgi-bin/request/gis/pireps.py?year1=2016&month1=8&day1=1&hour1=0&minute1=0&year2=2016&month2=8&day2=31&hour2=23&minute2=59&fmt=csv', 'https://mesonet.agron.iastate.edu/cgi-bin/request/gis/pireps.py?year1=2016&month1=9&day1=1&hour1=0&minute1=0&year2=2016&month2=9&day2=30&hour2=23&minute2=59&fmt=csv', 'https://mesonet.agron.iastate.edu/cgi-bin/request/gis/pireps.py?year1=2016&month1=10&day1=1&hour1=0&minute1=0&year2=2016&month2=10&day2=31&hour2=23&minute2=59&fmt=csv', 'https://mesonet.agron.iastate.edu/cgi-bin/request/gis/pireps.py?year1=2016&month1=11&day1=1&hour1=0&minute1=0&year2=2016&month2=11&day2=30&hour2=23&minute2=59&fmt=csv', 'https://mesonet.agron.iastate.edu/cgi-bin/request/gis/pireps.py?year1=2016&month1=12&day1=1&hour1=0&minute1=0&year2=2016&month2=12&day2=31&hour2=23&minute2=59&fmt=csv', 'https://mesonet.agron.iastate.edu/cgi-bin/request/gis/pireps.py?year1=2017&month1=1&day1=1&hour1=0&minute1=0&year2=2017&month2=1&day2=31&hour2=23&minute2=59&fmt=csv', 'https://mesonet.agron.iastate.edu/cgi-bin/request/gis/pireps.py?year1=2017&month1=2&day1=1&hour1=0&minute1=0&year2=2017&month2=2&day2=28&hour2=23&minute2=59&fmt=csv', 'https://mesonet.agron.iastate.edu/cgi-bin/request/gis/pireps.py?year1=2017&month1=3&day1=1&hour1=0&minute1=0&year2=2017&month2=3&day2=31&hour2=23&minute2=59&fmt=csv', 'https://mesonet.agron.iastate.edu/cgi-bin/request/gis/pireps.py?year1=2017&month1=4&day1=1&hour1=0&minute1=0&year2=2017&month2=4&day2=30&hour2=23&minute2=59&fmt=csv', 'https://mesonet.agron.iastate.edu/cgi-bin/request/gis/pireps.py?year1=2017&month1=5&day1=1&hour1=0&minute1=0&year2=2017&month2=5&day2=31&hour2=23&minute2=59&fmt=csv', 'https://mesonet.agron.iastate.edu/cgi-bin/request/gis/pireps.py?year1=2017&month1=6&day1=1&hour1=0&minute1=0&year2=2017&month2=6&day2=30&hour2=23&minute2=59&fmt=csv', 'https://mesonet.agron.iastate.edu/cgi-bin/request/gis/pireps.py?year1=2017&month1=7&day1=1&hour1=0&minute1=0&year2=2017&month2=7&day2=31&hour2=23&minute2=59&fmt=csv', 'https://mesonet.agron.iastate.edu/cgi-bin/request/gis/pireps.py?year1=2017&month1=8&day1=1&hour1=0&minute1=0&year2=2017&month2=8&day2=31&hour2=23&minute2=59&fmt=csv', 'https://mesonet.agron.iastate.edu/cgi-bin/request/gis/pireps.py?year1=2017&month1=9&day1=1&hour1=0&minute1=0&year2=2017&month2=9&day2=30&hour2=23&minute2=59&fmt=csv', 'https://mesonet.agron.iastate.edu/cgi-bin/request/gis/pireps.py?year1=2017&month1=10&day1=1&hour1=0&minute1=0&year2=2017&month2=10&day2=31&hour2=23&minute2=59&fmt=csv', 'https://mesonet.agron.iastate.edu/cgi-bin/request/gis/pireps.py?year1=2017&month1=11&day1=1&hour1=0&minute1=0&year2=2017&month2=11&day2=30&hour2=23&minute2=59&fmt=csv', 'https://mesonet.agron.iastate.edu/cgi-bin/request/gis/pireps.py?year1=2017&month1=12&day1=1&hour1=0&minute1=0&year2=2017&month2=12&day2=31&hour2=23&minute2=59&fmt=csv', 'https://mesonet.agron.iastate.edu/cgi-bin/request/gis/pireps.py?year1=2018&month1=1&day1=1&hour1=0&minute1=0&year2=2018&month2=1&day2=31&hour2=23&minute2=59&fmt=csv', 'https://mesonet.agron.iastate.edu/cgi-bin/request/gis/pireps.py?year1=2018&month1=2&day1=1&hour1=0&minute1=0&year2=2018&month2=2&day2=28&hour2=23&minute2=59&fmt=csv', 'https://mesonet.agron.iastate.edu/cgi-bin/request/gis/pireps.py?year1=2018&month1=3&day1=1&hour1=0&minute1=0&year2=2018&month2=3&day2=31&hour2=23&minute2=59&fmt=csv', 'https://mesonet.agron.iastate.edu/cgi-bin/request/gis/pireps.py?year1=2018&month1=4&day1=1&hour1=0&minute1=0&year2=2018&month2=4&day2=30&hour2=23&minute2=59&fmt=csv', 'https://mesonet.agron.iastate.edu/cgi-bin/request/gis/pireps.py?year1=2018&month1=5&day1=1&hour1=0&minute1=0&year2=2018&month2=5&day2=31&hour2=23&minute2=59&fmt=csv', 'https://mesonet.agron.iastate.edu/cgi-bin/request/gis/pireps.py?year1=2018&month1=6&day1=1&hour1=0&minute1=0&year2=2018&month2=6&day2=30&hour2=23&minute2=59&fmt=csv', 'https://mesonet.agron.iastate.edu/cgi-bin/request/gis/pireps.py?year1=2018&month1=7&day1=1&hour1=0&minute1=0&year2=2018&month2=7&day2=31&hour2=23&minute2=59&fmt=csv', 'https://mesonet.agron.iastate.edu/cgi-bin/request/gis/pireps.py?year1=2018&month1=8&day1=1&hour1=0&minute1=0&year2=2018&month2=8&day2=31&hour2=23&minute2=59&fmt=csv', 'https://mesonet.agron.iastate.edu/cgi-bin/request/gis/pireps.py?year1=2018&month1=9&day1=1&hour1=0&minute1=0&year2=2018&month2=9&day2=30&hour2=23&minute2=59&fmt=csv', 'https://mesonet.agron.iastate.edu/cgi-bin/request/gis/pireps.py?year1=2018&month1=10&day1=1&hour1=0&minute1=0&year2=2018&month2=10&day2=31&hour2=23&minute2=59&fmt=csv', 'https://mesonet.agron.iastate.edu/cgi-bin/request/gis/pireps.py?year1=2018&month1=11&day1=1&hour1=0&minute1=0&year2=2018&month2=11&day2=30&hour2=23&minute2=59&fmt=csv', 'https://mesonet.agron.iastate.edu/cgi-bin/request/gis/pireps.py?year1=2018&month1=12&day1=1&hour1=0&minute1=0&year2=2018&month2=12&day2=31&hour2=23&minute2=59&fmt=csv', 'https://mesonet.agron.iastate.edu/cgi-bin/request/gis/pireps.py?year1=2019&month1=1&day1=1&hour1=0&minute1=0&year2=2019&month2=1&day2=31&hour2=23&minute2=59&fmt=csv', 'https://mesonet.agron.iastate.edu/cgi-bin/request/gis/pireps.py?year1=2019&month1=2&day1=1&hour1=0&minute1=0&year2=2019&month2=2&day2=28&hour2=23&minute2=59&fmt=csv', 'https://mesonet.agron.iastate.edu/cgi-bin/request/gis/pireps.py?year1=2019&month1=3&day1=1&hour1=0&minute1=0&year2=2019&month2=3&day2=31&hour2=23&minute2=59&fmt=csv', 'https://mesonet.agron.iastate.edu/cgi-bin/request/gis/pireps.py?year1=2019&month1=4&day1=1&hour1=0&minute1=0&year2=2019&month2=4&day2=30&hour2=23&minute2=59&fmt=csv', 'https://mesonet.agron.iastate.edu/cgi-bin/request/gis/pireps.py?year1=2019&month1=5&day1=1&hour1=0&minute1=0&year2=2019&month2=5&day2=31&hour2=23&minute2=59&fmt=csv', 'https://mesonet.agron.iastate.edu/cgi-bin/request/gis/pireps.py?year1=2019&month1=6&day1=1&hour1=0&minute1=0&year2=2019&month2=6&day2=30&hour2=23&minute2=59&fmt=csv', 'https://mesonet.agron.iastate.edu/cgi-bin/request/gis/pireps.py?year1=2019&month1=7&day1=1&hour1=0&minute1=0&year2=2019&month2=7&day2=31&hour2=23&minute2=59&fmt=csv', 'https://mesonet.agron.iastate.edu/cgi-bin/request/gis/pireps.py?year1=2019&month1=8&day1=1&hour1=0&minute1=0&year2=2019&month2=8&day2=31&hour2=23&minute2=59&fmt=csv', 'https://mesonet.agron.iastate.edu/cgi-bin/request/gis/pireps.py?year1=2019&month1=9&day1=1&hour1=0&minute1=0&year2=2019&month2=9&day2=30&hour2=23&minute2=59&fmt=csv', 'https://mesonet.agron.iastate.edu/cgi-bin/request/gis/pireps.py?year1=2019&month1=10&day1=1&hour1=0&minute1=0&year2=2019&month2=10&day2=31&hour2=23&minute2=59&fmt=csv', 'https://mesonet.agron.iastate.edu/cgi-bin/request/gis/pireps.py?year1=2019&month1=11&day1=1&hour1=0&minute1=0&year2=2019&month2=11&day2=30&hour2=23&minute2=59&fmt=csv', 'https://mesonet.agron.iastate.edu/cgi-bin/request/gis/pireps.py?year1=2019&month1=12&day1=1&hour1=0&minute1=0&year2=2019&month2=12&day2=31&hour2=23&minute2=59&fmt=csv']\n"
     ]
    }
   ],
   "source": [
    "file_list = []\n",
    "\n",
    "\n",
    "for year in range(2020, 2024, 1):\n",
    "    for month in month_days.keys(): \n",
    "        start_month = month\n",
    "        end_month = month\n",
    "        day_1 = int(1)\n",
    "        day_2 = month_days[month]\n",
    "        url = f'https://mesonet.agron.iastate.edu/cgi-bin/request/gis/pireps.py?year1={year}&month1={start_month}&day1={day_1}&hour1=0&minute1=0&year2={year}&month2={end_month}&day2={day_2}&hour2=23&minute2=59&fmt=csv'\n",
    "        file_list.append(url)\n",
    "\n",
    "print(file_list)"
   ]
  },
  {
   "cell_type": "markdown",
   "id": "7710d178",
   "metadata": {},
   "source": [
    "Down below, we have quite a bit bunched into one function. First, we read each URL into a data frame, and only pull certain columns. Next, we will remove duplicate reports and then remove NA values. Finally, we'll save each file per month, and then read everything into one CSV for further processing purposes."
   ]
  },
  {
   "cell_type": "code",
   "execution_count": 3,
   "id": "48c842b0",
   "metadata": {},
   "outputs": [
    {
     "name": "stdout",
     "output_type": "stream",
     "text": [
      "Downloaded year1=2015&month1=1&day1=1&hour1=0&minute1=0&year2=2015&month2=1&day2=31&hour2=23&minute2=59&fmt=csv.csv\n",
      "Downloaded year1=2015&month1=2&day1=1&hour1=0&minute1=0&year2=2015&month2=2&day2=28&hour2=23&minute2=59&fmt=csv.csv\n",
      "Downloaded year1=2015&month1=3&day1=1&hour1=0&minute1=0&year2=2015&month2=3&day2=31&hour2=23&minute2=59&fmt=csv.csv\n",
      "Downloaded year1=2015&month1=4&day1=1&hour1=0&minute1=0&year2=2015&month2=4&day2=30&hour2=23&minute2=59&fmt=csv.csv\n",
      "Downloaded year1=2015&month1=5&day1=1&hour1=0&minute1=0&year2=2015&month2=5&day2=31&hour2=23&minute2=59&fmt=csv.csv\n",
      "Downloaded year1=2015&month1=6&day1=1&hour1=0&minute1=0&year2=2015&month2=6&day2=30&hour2=23&minute2=59&fmt=csv.csv\n",
      "Downloaded year1=2015&month1=7&day1=1&hour1=0&minute1=0&year2=2015&month2=7&day2=31&hour2=23&minute2=59&fmt=csv.csv\n",
      "Downloaded year1=2015&month1=8&day1=1&hour1=0&minute1=0&year2=2015&month2=8&day2=31&hour2=23&minute2=59&fmt=csv.csv\n",
      "Downloaded year1=2015&month1=9&day1=1&hour1=0&minute1=0&year2=2015&month2=9&day2=30&hour2=23&minute2=59&fmt=csv.csv\n",
      "Downloaded year1=2015&month1=10&day1=1&hour1=0&minute1=0&year2=2015&month2=10&day2=31&hour2=23&minute2=59&fmt=csv.csv\n",
      "Downloaded year1=2015&month1=11&day1=1&hour1=0&minute1=0&year2=2015&month2=11&day2=30&hour2=23&minute2=59&fmt=csv.csv\n",
      "Downloaded year1=2015&month1=12&day1=1&hour1=0&minute1=0&year2=2015&month2=12&day2=31&hour2=23&minute2=59&fmt=csv.csv\n",
      "Downloaded year1=2016&month1=1&day1=1&hour1=0&minute1=0&year2=2016&month2=1&day2=31&hour2=23&minute2=59&fmt=csv.csv\n",
      "Downloaded year1=2016&month1=2&day1=1&hour1=0&minute1=0&year2=2016&month2=2&day2=28&hour2=23&minute2=59&fmt=csv.csv\n",
      "Downloaded year1=2016&month1=3&day1=1&hour1=0&minute1=0&year2=2016&month2=3&day2=31&hour2=23&minute2=59&fmt=csv.csv\n",
      "Downloaded year1=2016&month1=4&day1=1&hour1=0&minute1=0&year2=2016&month2=4&day2=30&hour2=23&minute2=59&fmt=csv.csv\n",
      "Downloaded year1=2016&month1=5&day1=1&hour1=0&minute1=0&year2=2016&month2=5&day2=31&hour2=23&minute2=59&fmt=csv.csv\n",
      "Downloaded year1=2016&month1=6&day1=1&hour1=0&minute1=0&year2=2016&month2=6&day2=30&hour2=23&minute2=59&fmt=csv.csv\n",
      "Downloaded year1=2016&month1=7&day1=1&hour1=0&minute1=0&year2=2016&month2=7&day2=31&hour2=23&minute2=59&fmt=csv.csv\n",
      "Downloaded year1=2016&month1=8&day1=1&hour1=0&minute1=0&year2=2016&month2=8&day2=31&hour2=23&minute2=59&fmt=csv.csv\n",
      "Downloaded year1=2016&month1=9&day1=1&hour1=0&minute1=0&year2=2016&month2=9&day2=30&hour2=23&minute2=59&fmt=csv.csv\n",
      "Downloaded year1=2016&month1=10&day1=1&hour1=0&minute1=0&year2=2016&month2=10&day2=31&hour2=23&minute2=59&fmt=csv.csv\n",
      "Downloaded year1=2016&month1=11&day1=1&hour1=0&minute1=0&year2=2016&month2=11&day2=30&hour2=23&minute2=59&fmt=csv.csv\n",
      "Downloaded year1=2016&month1=12&day1=1&hour1=0&minute1=0&year2=2016&month2=12&day2=31&hour2=23&minute2=59&fmt=csv.csv\n",
      "Downloaded year1=2017&month1=1&day1=1&hour1=0&minute1=0&year2=2017&month2=1&day2=31&hour2=23&minute2=59&fmt=csv.csv\n",
      "Downloaded year1=2017&month1=2&day1=1&hour1=0&minute1=0&year2=2017&month2=2&day2=28&hour2=23&minute2=59&fmt=csv.csv\n",
      "Downloaded year1=2017&month1=3&day1=1&hour1=0&minute1=0&year2=2017&month2=3&day2=31&hour2=23&minute2=59&fmt=csv.csv\n",
      "Downloaded year1=2017&month1=4&day1=1&hour1=0&minute1=0&year2=2017&month2=4&day2=30&hour2=23&minute2=59&fmt=csv.csv\n",
      "Downloaded year1=2017&month1=5&day1=1&hour1=0&minute1=0&year2=2017&month2=5&day2=31&hour2=23&minute2=59&fmt=csv.csv\n",
      "Downloaded year1=2017&month1=6&day1=1&hour1=0&minute1=0&year2=2017&month2=6&day2=30&hour2=23&minute2=59&fmt=csv.csv\n",
      "Downloaded year1=2017&month1=7&day1=1&hour1=0&minute1=0&year2=2017&month2=7&day2=31&hour2=23&minute2=59&fmt=csv.csv\n",
      "Downloaded year1=2017&month1=8&day1=1&hour1=0&minute1=0&year2=2017&month2=8&day2=31&hour2=23&minute2=59&fmt=csv.csv\n",
      "Downloaded year1=2017&month1=9&day1=1&hour1=0&minute1=0&year2=2017&month2=9&day2=30&hour2=23&minute2=59&fmt=csv.csv\n",
      "Downloaded year1=2017&month1=10&day1=1&hour1=0&minute1=0&year2=2017&month2=10&day2=31&hour2=23&minute2=59&fmt=csv.csv\n",
      "Downloaded year1=2017&month1=11&day1=1&hour1=0&minute1=0&year2=2017&month2=11&day2=30&hour2=23&minute2=59&fmt=csv.csv\n",
      "Downloaded year1=2017&month1=12&day1=1&hour1=0&minute1=0&year2=2017&month2=12&day2=31&hour2=23&minute2=59&fmt=csv.csv\n",
      "Downloaded year1=2018&month1=1&day1=1&hour1=0&minute1=0&year2=2018&month2=1&day2=31&hour2=23&minute2=59&fmt=csv.csv\n",
      "Downloaded year1=2018&month1=2&day1=1&hour1=0&minute1=0&year2=2018&month2=2&day2=28&hour2=23&minute2=59&fmt=csv.csv\n",
      "Downloaded year1=2018&month1=3&day1=1&hour1=0&minute1=0&year2=2018&month2=3&day2=31&hour2=23&minute2=59&fmt=csv.csv\n",
      "Downloaded year1=2018&month1=4&day1=1&hour1=0&minute1=0&year2=2018&month2=4&day2=30&hour2=23&minute2=59&fmt=csv.csv\n",
      "Downloaded year1=2018&month1=5&day1=1&hour1=0&minute1=0&year2=2018&month2=5&day2=31&hour2=23&minute2=59&fmt=csv.csv\n",
      "Downloaded year1=2018&month1=6&day1=1&hour1=0&minute1=0&year2=2018&month2=6&day2=30&hour2=23&minute2=59&fmt=csv.csv\n",
      "Downloaded year1=2018&month1=7&day1=1&hour1=0&minute1=0&year2=2018&month2=7&day2=31&hour2=23&minute2=59&fmt=csv.csv\n",
      "Downloaded year1=2018&month1=8&day1=1&hour1=0&minute1=0&year2=2018&month2=8&day2=31&hour2=23&minute2=59&fmt=csv.csv\n",
      "Downloaded year1=2018&month1=9&day1=1&hour1=0&minute1=0&year2=2018&month2=9&day2=30&hour2=23&minute2=59&fmt=csv.csv\n",
      "Downloaded year1=2018&month1=10&day1=1&hour1=0&minute1=0&year2=2018&month2=10&day2=31&hour2=23&minute2=59&fmt=csv.csv\n",
      "Downloaded year1=2018&month1=11&day1=1&hour1=0&minute1=0&year2=2018&month2=11&day2=30&hour2=23&minute2=59&fmt=csv.csv\n",
      "Downloaded year1=2018&month1=12&day1=1&hour1=0&minute1=0&year2=2018&month2=12&day2=31&hour2=23&minute2=59&fmt=csv.csv\n",
      "Downloaded year1=2019&month1=1&day1=1&hour1=0&minute1=0&year2=2019&month2=1&day2=31&hour2=23&minute2=59&fmt=csv.csv\n",
      "Downloaded year1=2019&month1=2&day1=1&hour1=0&minute1=0&year2=2019&month2=2&day2=28&hour2=23&minute2=59&fmt=csv.csv\n",
      "Downloaded year1=2019&month1=3&day1=1&hour1=0&minute1=0&year2=2019&month2=3&day2=31&hour2=23&minute2=59&fmt=csv.csv\n",
      "Downloaded year1=2019&month1=4&day1=1&hour1=0&minute1=0&year2=2019&month2=4&day2=30&hour2=23&minute2=59&fmt=csv.csv\n",
      "Downloaded year1=2019&month1=5&day1=1&hour1=0&minute1=0&year2=2019&month2=5&day2=31&hour2=23&minute2=59&fmt=csv.csv\n",
      "Downloaded year1=2019&month1=6&day1=1&hour1=0&minute1=0&year2=2019&month2=6&day2=30&hour2=23&minute2=59&fmt=csv.csv\n",
      "Downloaded year1=2019&month1=7&day1=1&hour1=0&minute1=0&year2=2019&month2=7&day2=31&hour2=23&minute2=59&fmt=csv.csv\n",
      "Downloaded year1=2019&month1=8&day1=1&hour1=0&minute1=0&year2=2019&month2=8&day2=31&hour2=23&minute2=59&fmt=csv.csv\n",
      "Downloaded year1=2019&month1=9&day1=1&hour1=0&minute1=0&year2=2019&month2=9&day2=30&hour2=23&minute2=59&fmt=csv.csv\n",
      "Downloaded year1=2019&month1=10&day1=1&hour1=0&minute1=0&year2=2019&month2=10&day2=31&hour2=23&minute2=59&fmt=csv.csv\n",
      "Downloaded year1=2019&month1=11&day1=1&hour1=0&minute1=0&year2=2019&month2=11&day2=30&hour2=23&minute2=59&fmt=csv.csv\n",
      "Downloaded year1=2019&month1=12&day1=1&hour1=0&minute1=0&year2=2019&month2=12&day2=31&hour2=23&minute2=59&fmt=csv.csv\n",
      "Finished.\n"
     ]
    }
   ],
   "source": [
    "import os\n",
    "from pathlib import Path\n",
    "import pandas as pd\n",
    "\n",
    "for f in file_list:\n",
    "    try:\n",
    "        df = pd.read_csv(f, usecols = ['VALID','REPORT','TURBULENCE', 'LAT', 'LON'], dtype=str)\n",
    "    except:\n",
    "        print(\"Warning:\", f, \"could not be read\")\n",
    "    \n",
    "    # remove duplicate reports\n",
    "    duplicates_rem = df.drop_duplicates()\n",
    "\n",
    "    # drop na and 'None' values\n",
    "    na_drop = duplicates_rem.dropna()\n",
    "    #print(turb)\n",
    "\n",
    "    # drop None values for latitude and longitude only\n",
    "    turb = na_drop.mask(na_drop.eq('None')).dropna(subset = ['LAT', 'LON'])\n",
    "    \n",
    "    # set data directory\n",
    "    dataDir = './pirep_downloads'\n",
    "    output_dir = Path('./pirep_downloads')\n",
    "\n",
    "    # check if directory exists -> if directory doesn't exist, directory is created\n",
    "    if not os.path.exists(dataDir):\n",
    "        os.mkdir(dataDir)\n",
    "        \n",
    "    # download each dataframe with its file name\n",
    "    n = (f.split(\"?\")[-1] + \".csv\")\n",
    "    turb.to_csv(output_dir / f'{n}')\n",
    "    print(\"Downloaded\", n)\n",
    "    \n",
    "print(\"Finished.\")"
   ]
  },
  {
   "cell_type": "markdown",
   "id": "6deecb1f",
   "metadata": {},
   "source": [
    "#### Combining all Files"
   ]
  },
  {
   "cell_type": "markdown",
   "id": "bb5db92a",
   "metadata": {},
   "source": [
    "This is mostly for the EDA, which is in a separate notebook, but I combined all dataframes into a single dataframe/csv file as well."
   ]
  },
  {
   "cell_type": "code",
   "execution_count": 4,
   "id": "54cf5e16",
   "metadata": {},
   "outputs": [
    {
     "name": "stdout",
     "output_type": "stream",
     "text": [
      "       Unnamed: 0         VALID  \\\n",
      "0               0  201903010000   \n",
      "1               1  201903010000   \n",
      "2               2  201903010000   \n",
      "3               3  201903010000   \n",
      "4               4  201903010000   \n",
      "...           ...           ...   \n",
      "44917       44937  201805312355   \n",
      "44918       44938  201805312356   \n",
      "44919       44939  201805312357   \n",
      "44920       44940  201805312358   \n",
      "44921       44941  201805312358   \n",
      "\n",
      "                                                  REPORT        TURBULENCE  \\\n",
      "0      LNY UA /OV 15W LNY/TM 0000/FL035/TP PA31/SK SC...               NaN   \n",
      "1      LFT UA /OV LFT180020 /TM 0000 /FL140 /TP E145 ...               NaN   \n",
      "2      LFT UA /OV LFT180020 /TM 0000 /FL140 /TP E145 ...               NaN   \n",
      "3      CLL UA /OV CLL /TM 0000 /FL250 /TP B737 /TB MO...  MOD CHOP 250-210   \n",
      "4      CLL UA /OV CLL /TM 0000 /FL250 /TP B737 /TB MO...  MOD CHOP 250-210   \n",
      "...                                                  ...               ...   \n",
      "44917  GTF UA /OV GTF198042/TM 2355/FL350/TP B777/TB ...               MOD   \n",
      "44918     LGA UA /OV LGA/TM 2356/FL003/TP CRJ9/SK OVC003               NaN   \n",
      "44919  MHS UA /OV FJS /TM 2357 /FL125 /TP UNKN /SK TO...               NaN   \n",
      "44920  UA /OV CYVK /TM 2358 /FL075 /TP C182 /TB LGT /...               LGT   \n",
      "44921  BJC UA /OV 340005/TM 2358/FL070/TP C172/RM 400...               NaN   \n",
      "\n",
      "             LAT         LON  \n",
      "0      20.780000 -157.217416  \n",
      "1      29.878140  -91.981000  \n",
      "2      29.878140  -91.981000  \n",
      "3      30.588060  -96.363890  \n",
      "4      30.588060  -96.363890  \n",
      "...          ...         ...  \n",
      "44917  46.807507 -111.702245  \n",
      "44918  40.779450  -73.880280  \n",
      "44919  41.450000 -122.810000  \n",
      "44920  50.250000 -119.330000  \n",
      "44921  39.908810 -105.117190  \n",
      "\n",
      "[2824632 rows x 6 columns]\n"
     ]
    }
   ],
   "source": [
    "import glob\n",
    "import pandas as pd\n",
    "\n",
    "pirep_files = glob.glob(\"./pirep_downloads/*.csv\")\n",
    "\n",
    "df_all = pd.concat(map(pd.read_csv, pirep_files))\n",
    "print(df_all)"
   ]
  },
  {
   "cell_type": "code",
   "execution_count": 5,
   "id": "69215ea6",
   "metadata": {},
   "outputs": [],
   "source": [
    "from pathlib import Path\n",
    "\n",
    "output_dir = Path('./pirep_downloads')\n",
    "df_all.to_csv(output_dir / \"all_pireps.csv\")"
   ]
  },
  {
   "cell_type": "code",
   "execution_count": null,
   "id": "fd9dd7cc",
   "metadata": {},
   "outputs": [],
   "source": []
  }
 ],
 "metadata": {
  "kernelspec": {
   "display_name": "Python [conda env:wx]",
   "language": "python",
   "name": "conda-env-wx-py"
  },
  "language_info": {
   "codemirror_mode": {
    "name": "ipython",
    "version": 3
   },
   "file_extension": ".py",
   "mimetype": "text/x-python",
   "name": "python",
   "nbconvert_exporter": "python",
   "pygments_lexer": "ipython3",
   "version": "3.10.11"
  }
 },
 "nbformat": 4,
 "nbformat_minor": 5
}
